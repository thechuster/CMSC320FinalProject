{
 "cells": [
  {
   "cell_type": "markdown",
   "metadata": {},
   "source": [
    "# Predicting Economies Using World Bank Datasets\n",
    "\n",
    "Sean McSkeane, Albert Chu, Sonny Liu"
   ]
  },
  {
   "cell_type": "markdown",
   "metadata": {},
   "source": [
    "### Table of Contents\n",
    "\n",
    "1. Background\n",
    "    1.1 Introduction\n",
    "    1.2 Defintions\n",
    "2. Data Collection\n",
    "    2.1 Libraries\n",
    "    2.2 Data\n",
    "3. Data Processing\n",
    "    3.1\n",
    "4. Exploratory Analysis and Data Visualization\n",
    "5. Analysis, Hypothesis Testing, and Machine Learning\n",
    "6. Insight and Policy Design\n",
    "    6.1 Conclusion"
   ]
  },
  {
   "cell_type": "markdown",
   "metadata": {},
   "source": [
    "### Introduction\n",
    "\n",
    "The are almost innumerable factors that determine the economic prosperity of a country. This project aims to analyze the effect that some of these factors have on the economies of countries around the world. The variables that will be analyzed will include both variables that seem directly related to economics and variables that seem loosely related to economics."
   ]
  },
  {
   "cell_type": "markdown",
   "metadata": {},
   "source": [
    "### Definitions\n",
    "\n",
    "Should define some of the terms we will be using GDP."
   ]
  },
  {
   "cell_type": "markdown",
   "metadata": {},
   "source": [
    "## <center>Data Collection<center>"
   ]
  },
  {
   "cell_type": "markdown",
   "metadata": {},
   "source": [
    "### Libraries"
   ]
  },
  {
   "cell_type": "code",
   "execution_count": 6,
   "metadata": {},
   "outputs": [
    {
     "name": "stdout",
     "output_type": "stream",
     "text": [
      "Requirement already satisfied: folium in /opt/conda/lib/python3.7/site-packages (0.10.1)\n",
      "Requirement already satisfied: numpy in /opt/conda/lib/python3.7/site-packages (from folium) (1.15.4)\n",
      "Requirement already satisfied: requests in /opt/conda/lib/python3.7/site-packages (from folium) (2.21.0)\n",
      "Requirement already satisfied: branca>=0.3.0 in /opt/conda/lib/python3.7/site-packages (from folium) (0.3.1)\n",
      "Requirement already satisfied: jinja2>=2.9 in /opt/conda/lib/python3.7/site-packages (from folium) (2.10.1)\n",
      "Requirement already satisfied: chardet<3.1.0,>=3.0.2 in /opt/conda/lib/python3.7/site-packages (from requests->folium) (3.0.4)\n",
      "Requirement already satisfied: urllib3<1.25,>=1.21.1 in /opt/conda/lib/python3.7/site-packages (from requests->folium) (1.24.1)\n",
      "Requirement already satisfied: certifi>=2017.4.17 in /opt/conda/lib/python3.7/site-packages (from requests->folium) (2019.3.9)\n",
      "Requirement already satisfied: idna<2.9,>=2.5 in /opt/conda/lib/python3.7/site-packages (from requests->folium) (2.8)\n",
      "Requirement already satisfied: six in /opt/conda/lib/python3.7/site-packages (from branca>=0.3.0->folium) (1.12.0)\n",
      "Requirement already satisfied: MarkupSafe>=0.23 in /opt/conda/lib/python3.7/site-packages (from jinja2>=2.9->folium) (1.1.1)\n"
     ]
    }
   ],
   "source": [
    "import pandas as pd\n",
    "import numpy as np\n",
    "import matplotlib.pyplot as plt\n",
    "import seaborn as sns\n",
    "from sklearn import linear_model\n",
    "from sklearn import model_selection\n",
    "from statsmodels import api as sm\n",
    "!pip install folium\n",
    "import folium\n",
    "import json\n",
    "from pandas.io.json import json_normalize"
   ]
  },
  {
   "cell_type": "markdown",
   "metadata": {},
   "source": [
    "For the purposes of this project, we used data from the World Bank dataset. The World Bank site allowed for us to build a custom dataset by choosing the variables that we wanted. We chose to include variables that we thought could be used a predictors of GDP. We purposely chose more variables than we planned on using as we were unsure of the quality of the data, and which variables were missing values."
   ]
  },
  {
   "cell_type": "code",
   "execution_count": 7,
   "metadata": {
    "scrolled": false
   },
   "outputs": [],
   "source": [
    "worldBankDevInc = pd.read_csv(\"WorldBankData/data.csv\")\n",
    "\n",
    "worldBankDevInc.dropna(inplace=True)\n",
    "countryName = \"\"\n",
    "first = True\n",
    "newRows = []\n",
    "countriesData = []\n",
    "\n",
    "for index, row in worldBankDevInc.iterrows():\n",
    "    if (countryName != row[\"Country Name\"]):\n",
    "        if (first == False):\n",
    "            #CHOSE WHAT YEARS TO DROP HERE\n",
    "            df = df.drop(df.loc[:, '1960 [YR1960]':'1990 [YR1990]'].columns, axis = 1)  \n",
    "            countriesData.append(df)\n",
    "            # IF YOU WANT TO SEE ALL COUNTRIES DATA UNCOMMENT THIS\n",
    "            #with pd.option_context('display.max_rows', None, 'display.max_columns', None):\n",
    "                #display(df)\n",
    "        countryName = row[\"Country Name\"]\n",
    "        df = pd.DataFrame(columns=worldBankDevInc.columns) \n",
    "        first = False\n",
    "        \n",
    "    df = df.append(row, ignore_index=True)\n",
    "\n",
    "df  = df.drop(df.loc[:, '1960 [YR1960]':'1990 [YR1990]'].columns, axis = 1) \n",
    "#with pd.option_context('display.max_rows', None, 'display.max_columns', None):\n",
    "    #display(df)\n",
    "    #display(countriesData[206])"
   ]
  },
  {
   "cell_type": "markdown",
   "metadata": {},
   "source": [
    "## <center>Data Processing<center>"
   ]
  },
  {
   "cell_type": "code",
   "execution_count": 21,
   "metadata": {},
   "outputs": [],
   "source": [
    "worldData = pd.concat(countriesData)\n",
    "years = []\n",
    "GDP = []\n",
    "counter = 0\n",
    "year = 1991\n",
    "\n",
    "for column in worldData:\n",
    "    if column == str(year) + \" [YR\" + str(year) + \"]\":\n",
    "        GDP += worldData[column].tolist()\n",
    "        for x in range(7890):\n",
    "            years.append(year)\n",
    "        year += 1\n",
    "\n",
    "for x in range(len(GDP)):\n",
    "    if GDP[x] == \"..\":\n",
    "        GDP[x] = 0\n",
    "\n",
    "# for x in range(1000):\n",
    "#     print(GDP[x])\n",
    "    \n",
    "# print(len(GDP))\n",
    "# print(len(years))\n",
    "\n",
    "#scatterPlot = sns.scatterplot(x=years, y=GDP).set_title('Years vs GDP')"
   ]
  },
  {
   "cell_type": "code",
   "execution_count": 30,
   "metadata": {
    "scrolled": false
   },
   "outputs": [],
   "source": [
    "columns = [\"countryName\", \"Country Code\"]\n",
    "predictionData = pd.DataFrame(columns = [\"countryName\", \"Country Code\"])\n",
    "#predictionData.drop(df.loc[:, '1991 [YR1991]':'1999 [YR1999]'].columns, axis = 1, inplace=True)\n",
    "#predictionData.drop(df.loc[:, '2016 [YR2016]':'2019 [YR2019]'].columns, axis = 1, inplace=True)\n",
    "#for index, row in worldData.iterrows():\n",
    "#    if row[\"Series Name\"] in predictors.columns:\n",
    "#        counter = 2000\n",
    "#        while counter <= 2015:\n",
    "            \n",
    "#predictionData.head()"
   ]
  },
  {
   "cell_type": "code",
   "execution_count": 10,
   "metadata": {
    "scrolled": false
   },
   "outputs": [],
   "source": [
    "worldData = worldData[[\"Country Name\",\"Country Code\", \"Series Name\", \"Series Code\", \"2015 [YR2015]\"]]\n",
    "\n",
    "counter = 0\n",
    "indx = 0\n",
    "predictors = pd.DataFrame(columns = [\"countryName\", \"Country Code\"])\n",
    "for index, row in worldData.iterrows():\n",
    "    if row[\"Country Name\"] not in predictors.countryName.values:\n",
    "        predictors = predictors.append({\"countryName\": row[\"Country Name\"], \"Country Code\": row[\"Country Code\"]}, ignore_index=True)\n",
    "predictors[\"Current health expenditure (% of GDP)\"] = 0.0\n",
    "predictors[\"Government expenditure on education, total (% of GDP)\"] = 0.0\n",
    "predictors[\"Prevalence of undernourishment (% of population)\"] = 0.0\n",
    "predictors[\"GDP per capita (current US$)\"] = 0.0\n",
    "for index, row in worldData.iterrows():\n",
    "    if row[\"Series Name\"] in predictors.columns:\n",
    "        counter += 1\n",
    "        if row[\"2015 [YR2015]\"] != \"..\":\n",
    "            predictors.at[indx, row[\"Series Name\"]] = row[\"2015 [YR2015]\"]\n",
    "        else:\n",
    "            predictors.at[indx, row[\"Series Name\"]] = np.nan\n",
    "        if counter % 4 == 0:\n",
    "            counter = 0\n",
    "            indx += 1\n",
    "predictors = predictors.dropna()"
   ]
  },
  {
   "cell_type": "markdown",
   "metadata": {},
   "source": [
    "## <center>Exploratory Analysis and Data Visualization<center>"
   ]
  },
  {
   "cell_type": "code",
   "execution_count": null,
   "metadata": {},
   "outputs": [],
   "source": [
    "sns.regplot(x=\"Current health expenditure (% of GDP)\", y=\"GDP per capita (current US$)\", data=predictors)"
   ]
  },
  {
   "cell_type": "code",
   "execution_count": null,
   "metadata": {},
   "outputs": [],
   "source": [
    "sns.regplot(x=\"Government expenditure on education, total (% of GDP)\", y=\"GDP per capita (current US$)\", data=predictors)"
   ]
  },
  {
   "cell_type": "code",
   "execution_count": null,
   "metadata": {},
   "outputs": [],
   "source": [
    "sns.regplot(x=\"Prevalence of undernourishment (% of population)\", y=\"GDP per capita (current US$)\", data=predictors)"
   ]
  },
  {
   "cell_type": "code",
   "execution_count": 11,
   "metadata": {},
   "outputs": [
    {
     "data": {
      "text/html": [
       "<div>\n",
       "<style scoped>\n",
       "    .dataframe tbody tr th:only-of-type {\n",
       "        vertical-align: middle;\n",
       "    }\n",
       "\n",
       "    .dataframe tbody tr th {\n",
       "        vertical-align: top;\n",
       "    }\n",
       "\n",
       "    .dataframe thead th {\n",
       "        text-align: right;\n",
       "    }\n",
       "</style>\n",
       "<table border=\"1\" class=\"dataframe\">\n",
       "  <thead>\n",
       "    <tr style=\"text-align: right;\">\n",
       "      <th></th>\n",
       "      <th>type</th>\n",
       "      <th>features</th>\n",
       "    </tr>\n",
       "  </thead>\n",
       "  <tbody>\n",
       "    <tr>\n",
       "      <th>0</th>\n",
       "      <td>FeatureCollection</td>\n",
       "      <td>{'type': 'Feature', 'properties': {'name': 'Af...</td>\n",
       "    </tr>\n",
       "    <tr>\n",
       "      <th>1</th>\n",
       "      <td>FeatureCollection</td>\n",
       "      <td>{'type': 'Feature', 'properties': {'name': 'An...</td>\n",
       "    </tr>\n",
       "    <tr>\n",
       "      <th>2</th>\n",
       "      <td>FeatureCollection</td>\n",
       "      <td>{'type': 'Feature', 'properties': {'name': 'Al...</td>\n",
       "    </tr>\n",
       "    <tr>\n",
       "      <th>3</th>\n",
       "      <td>FeatureCollection</td>\n",
       "      <td>{'type': 'Feature', 'properties': {'name': 'Un...</td>\n",
       "    </tr>\n",
       "    <tr>\n",
       "      <th>4</th>\n",
       "      <td>FeatureCollection</td>\n",
       "      <td>{'type': 'Feature', 'properties': {'name': 'Ar...</td>\n",
       "    </tr>\n",
       "  </tbody>\n",
       "</table>\n",
       "</div>"
      ],
      "text/plain": [
       "                type                                           features\n",
       "0  FeatureCollection  {'type': 'Feature', 'properties': {'name': 'Af...\n",
       "1  FeatureCollection  {'type': 'Feature', 'properties': {'name': 'An...\n",
       "2  FeatureCollection  {'type': 'Feature', 'properties': {'name': 'Al...\n",
       "3  FeatureCollection  {'type': 'Feature', 'properties': {'name': 'Un...\n",
       "4  FeatureCollection  {'type': 'Feature', 'properties': {'name': 'Ar..."
      ]
     },
     "execution_count": 11,
     "metadata": {},
     "output_type": "execute_result"
    }
   ],
   "source": [
    "worldCountries = pd.read_json(\"world-countries.json\")\n",
    "\n",
    "mapPredictors = predictors\n",
    "\n",
    "#for index, row in mapPredictors.iterrows():\n",
    "#    if row[\"countryName\"] not in worldCountries.name:\n",
    "#        mapPredictors.drop([index], axis=0, inplace=True)\n",
    "\n",
    "worldCountries.head()"
   ]
  },
  {
   "cell_type": "code",
   "execution_count": null,
   "metadata": {
    "scrolled": false
   },
   "outputs": [],
   "source": [
    "#worldCountries \n",
    "\n",
    "# NEED COUNTRIES IN dataGDP to match countries in worldCountries.\n",
    "\n",
    "m = folium.Map(location=[37, -102], zoom_start=5)\n",
    "\n",
    "#folium.Choropleth(\n",
    "#    geo_data=\"world-countries.json\",\n",
    "#    name='choropleth',\n",
    "#    data=dataGDP,\n",
    "#    columns=['Country Name', 'GDP2015'],\n",
    "#    key_on='feature.id',\n",
    "#    fill_color='YlGn',\n",
    "#    fill_opacity=0.7,\n",
    "#    line_opacity=0.2,\n",
    "#    legend_name='Unemployment Rate (%)'\n",
    "#).add_to(m)\n",
    "\n",
    "folium.LayerControl().add_to(m)\n",
    "\n",
    "m"
   ]
  },
  {
   "cell_type": "markdown",
   "metadata": {},
   "source": [
    "## <center>Analysis, Hypothesis Testing, and Machine Learning<center>"
   ]
  },
  {
   "cell_type": "markdown",
   "metadata": {},
   "source": [
    "### Linear Regression"
   ]
  },
  {
   "cell_type": "code",
   "execution_count": null,
   "metadata": {},
   "outputs": [],
   "source": [
    "X = predictors[[\"Current health expenditure (% of GDP)\", \"Government expenditure on education, total (% of GDP)\", \"Prevalence of undernourishment (% of population)\"]]\n",
    "y = predictors[[\"GDP per capita (current US$)\"]]\n",
    "lm = linear_model.LinearRegression()\n",
    "model = lm.fit(X,y)\n",
    "lm.score(X,y)"
   ]
  },
  {
   "cell_type": "markdown",
   "metadata": {},
   "source": [
    "### OLS Regression"
   ]
  },
  {
   "cell_type": "code",
   "execution_count": null,
   "metadata": {},
   "outputs": [],
   "source": [
    "ols_y = y\n",
    "ols_X = X\n",
    "\n",
    "#add a constant to the features\n",
    "ols_X = sm.add_constant(ols_X)\n",
    "\n",
    "# use Ordinary Least Squares\n",
    "OLS_model = sm.OLS(ols_y, ols_X).fit()\n",
    "OLS_model.summary()"
   ]
  },
  {
   "cell_type": "markdown",
   "metadata": {},
   "source": [
    "### Predictions"
   ]
  },
  {
   "cell_type": "code",
   "execution_count": null,
   "metadata": {},
   "outputs": [],
   "source": [
    "# create training and testing data from same X and y used in regression above\n",
    "X_train, X_test, y_train, y_test = model_selection.train_test_split(X, y, test_size=0.3)\n",
    "\n",
    "# create and fit the model\n",
    "lm = linear_model.LinearRegression()\n",
    "model = lm.fit(X_train, y_train)\n",
    "\n",
    "# generate predictions for player Rating to compare with y_test data\n",
    "predictions = lm.predict(X_test)\n",
    "\n",
    "plt.figure(figsize=(8,8))\n",
    "plt.title(\"Predicted vs. Actual Values for GDP\", fontsize=16)\n",
    "plt.scatter(y_test, predictions)\n",
    "plt.plot(y_test, y_test, color=\"Red\") # identity line y=x\n",
    "plt.xlabel(\"Actual Values\")\n",
    "plt.ylabel(\"Predicted Values\")\n",
    "plt.show()"
   ]
  },
  {
   "cell_type": "markdown",
   "metadata": {},
   "source": [
    "## <center>Insight and Policy Decision<center>"
   ]
  }
 ],
 "metadata": {
  "kernelspec": {
   "display_name": "Python 3",
   "language": "python",
   "name": "python3"
  },
  "language_info": {
   "codemirror_mode": {
    "name": "ipython",
    "version": 3
   },
   "file_extension": ".py",
   "mimetype": "text/x-python",
   "name": "python",
   "nbconvert_exporter": "python",
   "pygments_lexer": "ipython3",
   "version": "3.7.3"
  }
 },
 "nbformat": 4,
 "nbformat_minor": 2
}
