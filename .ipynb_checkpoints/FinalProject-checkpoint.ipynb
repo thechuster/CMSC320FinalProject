{
 "cells": [
  {
   "cell_type": "markdown",
   "metadata": {},
   "source": [
    "# Predicting Economies Using World Bank Datasets\n",
    "\n",
    "Sean McSkeane, Albert Chu, Sonny Liu"
   ]
  },
  {
   "cell_type": "markdown",
   "metadata": {},
   "source": [
    "### Table of Contents\n",
    "\n",
    "1. Background\n",
    "    1.1 Introduction\n",
    "    1.2 Defintions\n",
    "2. Data Collection\n",
    "    2.1 Libraries\n",
    "    2.2 Data\n",
    "3. Data Processing\n",
    "    3.1\n",
    "4. Exploratory Analysis and Data Visualization\n",
    "5. Analysis, Hypothesis Testing, and Machine Learning\n",
    "6. Insight and Policy Design\n",
    "    6.1 Conclusion"
   ]
  },
  {
   "cell_type": "markdown",
   "metadata": {},
   "source": [
    "### Introduction\n",
    "\n",
    "The are almost innumerable factors that determine the economic prosperity of a country. This project aims to analyze the effect that some of these factors have on the economies of countries around the world. The variables that will be analyzed will include both variables that seem directly related to economics and variables that seem loosely related to economics."
   ]
  },
  {
   "cell_type": "markdown",
   "metadata": {},
   "source": [
    "### Definitions\n",
    "\n",
    "Should define some of the terms we will be using GDP."
   ]
  },
  {
   "cell_type": "markdown",
   "metadata": {},
   "source": [
    "## <center>Data Collection<center>"
   ]
  },
  {
   "cell_type": "markdown",
   "metadata": {},
   "source": [
    "### Libraries"
   ]
  },
  {
   "cell_type": "code",
   "execution_count": 79,
   "metadata": {},
   "outputs": [
    {
     "name": "stdout",
     "output_type": "stream",
     "text": [
      "Requirement already satisfied: folium in /opt/conda/lib/python3.7/site-packages (0.10.1)\n",
      "Requirement already satisfied: jinja2>=2.9 in /opt/conda/lib/python3.7/site-packages (from folium) (2.10.1)\n",
      "Requirement already satisfied: branca>=0.3.0 in /opt/conda/lib/python3.7/site-packages (from folium) (0.3.1)\n",
      "Requirement already satisfied: numpy in /opt/conda/lib/python3.7/site-packages (from folium) (1.15.4)\n",
      "Requirement already satisfied: requests in /opt/conda/lib/python3.7/site-packages (from folium) (2.21.0)\n",
      "Requirement already satisfied: MarkupSafe>=0.23 in /opt/conda/lib/python3.7/site-packages (from jinja2>=2.9->folium) (1.1.1)\n",
      "Requirement already satisfied: six in /opt/conda/lib/python3.7/site-packages (from branca>=0.3.0->folium) (1.12.0)\n",
      "Requirement already satisfied: urllib3<1.25,>=1.21.1 in /opt/conda/lib/python3.7/site-packages (from requests->folium) (1.24.1)\n",
      "Requirement already satisfied: idna<2.9,>=2.5 in /opt/conda/lib/python3.7/site-packages (from requests->folium) (2.8)\n",
      "Requirement already satisfied: chardet<3.1.0,>=3.0.2 in /opt/conda/lib/python3.7/site-packages (from requests->folium) (3.0.4)\n",
      "Requirement already satisfied: certifi>=2017.4.17 in /opt/conda/lib/python3.7/site-packages (from requests->folium) (2019.3.9)\n"
     ]
    }
   ],
   "source": [
    "import pandas as pd\n",
    "import numpy as np\n",
    "import matplotlib.pyplot as plt\n",
    "import seaborn as sns\n",
    "from sklearn import linear_model\n",
    "from sklearn import model_selection\n",
    "from statsmodels import api as sm\n",
    "!pip install folium\n",
    "import folium\n",
    "import json\n",
    "from pandas.io.json import json_normalize"
   ]
  },
  {
   "cell_type": "markdown",
   "metadata": {},
   "source": [
    "For the purposes of this project, we used data from the World Bank dataset. The World Bank site allowed for us to build a custom dataset by choosing the variables that we wanted. We chose to include variables that we thought could be used a predictors of GDP. We purposely chose more variables than we planned on using as we were unsure of the quality of the data, and which variables were missing values."
   ]
  },
  {
   "cell_type": "code",
   "execution_count": 80,
   "metadata": {
    "scrolled": false
   },
   "outputs": [],
   "source": [
    "worldBankDevInc = pd.read_csv(\"WorldBankData/data.csv\")\n",
    "\n",
    "worldBankDevInc.dropna(inplace=True)\n",
    "countryName = \"\"\n",
    "first = True\n",
    "newRows = []\n",
    "countriesData = []\n",
    "\n",
    "for index, row in worldBankDevInc.iterrows():\n",
    "    if (countryName != row[\"Country Name\"]):\n",
    "        if (first == False):\n",
    "            #CHOSE WHAT YEARS TO DROP HERE\n",
    "            df = df.drop(df.loc[:, '1960 [YR1960]':'1990 [YR1990]'].columns, axis = 1)  \n",
    "            countriesData.append(df)\n",
    "            # IF YOU WANT TO SEE ALL COUNTRIES DATA UNCOMMENT THIS\n",
    "            #with pd.option_context('display.max_rows', None, 'display.max_columns', None):\n",
    "                #display(df)\n",
    "        countryName = row[\"Country Name\"]\n",
    "        df = pd.DataFrame(columns=worldBankDevInc.columns) \n",
    "        first = False\n",
    "        \n",
    "    df = df.append(row, ignore_index=True)\n",
    "\n",
    "df  = df.drop(df.loc[:, '1960 [YR1960]':'1990 [YR1990]'].columns, axis = 1) \n",
    "#with pd.option_context('display.max_rows', None, 'display.max_columns', None):\n",
    "    #display(df)\n",
    "    #display(countriesData[206])"
   ]
  },
  {
   "cell_type": "markdown",
   "metadata": {},
   "source": [
    "## <center>Data Processing<center>"
   ]
  },
  {
   "cell_type": "code",
   "execution_count": 81,
   "metadata": {},
   "outputs": [],
   "source": [
    "worldData = pd.concat(countriesData)\n",
    "years = []\n",
    "GDP = []\n",
    "counter = 0\n",
    "year = 1991\n",
    "\n",
    "for column in worldData:\n",
    "    if column == str(year) + \" [YR\" + str(year) + \"]\":\n",
    "        GDP += worldData[column].tolist()\n",
    "        for x in range(7890):\n",
    "            years.append(year)\n",
    "        year += 1\n",
    "\n",
    "for x in range(len(GDP)):\n",
    "    if GDP[x] == \"..\":\n",
    "        GDP[x] = 0\n",
    "\n",
    "# for x in range(1000):\n",
    "#     print(GDP[x])\n",
    "    \n",
    "# print(len(GDP))\n",
    "# print(len(years))\n",
    "\n",
    "#scatterPlot = sns.scatterplot(x=years, y=GDP).set_title('Years vs GDP')"
   ]
  },
  {
   "cell_type": "code",
   "execution_count": 82,
   "metadata": {
    "scrolled": false
   },
   "outputs": [
    {
     "data": {
      "text/html": [
       "<div>\n",
       "<style scoped>\n",
       "    .dataframe tbody tr th:only-of-type {\n",
       "        vertical-align: middle;\n",
       "    }\n",
       "\n",
       "    .dataframe tbody tr th {\n",
       "        vertical-align: top;\n",
       "    }\n",
       "\n",
       "    .dataframe thead th {\n",
       "        text-align: right;\n",
       "    }\n",
       "</style>\n",
       "<table border=\"1\" class=\"dataframe\">\n",
       "  <thead>\n",
       "    <tr style=\"text-align: right;\">\n",
       "      <th></th>\n",
       "      <th>Country Name</th>\n",
       "      <th>Year</th>\n",
       "      <th>GDP per capita (current US$)</th>\n",
       "      <th>GDP per capita growth (annual %)</th>\n",
       "      <th>Final consumption expenditure (% of GDP)</th>\n",
       "      <th>Final consumption expenditure (current US$)</th>\n",
       "      <th>General government final consumption expenditure (current US$)</th>\n",
       "      <th>General government final consumption expenditure (% of GDP)</th>\n",
       "      <th>Foreign direct investment, net inflows (% of GDP)</th>\n",
       "      <th>Foreign direct investment, net inflows (BoP, current US$)</th>\n",
       "      <th>Exports of goods and services (current US$)</th>\n",
       "      <th>Imports of goods and services (current US$)</th>\n",
       "      <th>Exports of goods and services (% of GDP)</th>\n",
       "      <th>Imports of goods and services (% of GDP)</th>\n",
       "    </tr>\n",
       "  </thead>\n",
       "  <tbody>\n",
       "    <tr>\n",
       "      <th>0</th>\n",
       "      <td>Afghanistan</td>\n",
       "      <td>2000</td>\n",
       "      <td>NaN</td>\n",
       "      <td>NaN</td>\n",
       "      <td>NaN</td>\n",
       "      <td>NaN</td>\n",
       "      <td>NaN</td>\n",
       "      <td>NaN</td>\n",
       "      <td>NaN</td>\n",
       "      <td>170000.0</td>\n",
       "      <td>NaN</td>\n",
       "      <td>NaN</td>\n",
       "      <td>NaN</td>\n",
       "      <td>NaN</td>\n",
       "    </tr>\n",
       "    <tr>\n",
       "      <th>1</th>\n",
       "      <td>Afghanistan</td>\n",
       "      <td>2001</td>\n",
       "      <td>NaN</td>\n",
       "      <td>NaN</td>\n",
       "      <td>NaN</td>\n",
       "      <td>NaN</td>\n",
       "      <td>NaN</td>\n",
       "      <td>NaN</td>\n",
       "      <td>NaN</td>\n",
       "      <td>680000.0</td>\n",
       "      <td>NaN</td>\n",
       "      <td>NaN</td>\n",
       "      <td>NaN</td>\n",
       "      <td>NaN</td>\n",
       "    </tr>\n",
       "    <tr>\n",
       "      <th>2</th>\n",
       "      <td>Afghanistan</td>\n",
       "      <td>2002</td>\n",
       "      <td>179.426494</td>\n",
       "      <td>NaN</td>\n",
       "      <td>132.122532</td>\n",
       "      <td>5.357802e+09</td>\n",
       "      <td>3.453616e+08</td>\n",
       "      <td>8.516561</td>\n",
       "      <td>1.232992</td>\n",
       "      <td>50000000.0</td>\n",
       "      <td>1.329281e+09</td>\n",
       "      <td>2.851980e+09</td>\n",
       "      <td>32.779841</td>\n",
       "      <td>70.329362</td>\n",
       "    </tr>\n",
       "    <tr>\n",
       "      <th>3</th>\n",
       "      <td>Afghanistan</td>\n",
       "      <td>2003</td>\n",
       "      <td>190.684009</td>\n",
       "      <td>3.868362</td>\n",
       "      <td>147.518576</td>\n",
       "      <td>6.661295e+09</td>\n",
       "      <td>4.482138e+08</td>\n",
       "      <td>9.925977</td>\n",
       "      <td>1.280017</td>\n",
       "      <td>57800000.0</td>\n",
       "      <td>2.003508e+09</td>\n",
       "      <td>3.250916e+09</td>\n",
       "      <td>44.368948</td>\n",
       "      <td>71.993593</td>\n",
       "    </tr>\n",
       "    <tr>\n",
       "      <th>4</th>\n",
       "      <td>Afghanistan</td>\n",
       "      <td>2004</td>\n",
       "      <td>211.381970</td>\n",
       "      <td>-2.875184</td>\n",
       "      <td>139.652624</td>\n",
       "      <td>7.299329e+09</td>\n",
       "      <td>5.587055e+08</td>\n",
       "      <td>10.689296</td>\n",
       "      <td>3.575819</td>\n",
       "      <td>186900000.0</td>\n",
       "      <td>1.616202e+09</td>\n",
       "      <td>3.170767e+09</td>\n",
       "      <td>30.921587</td>\n",
       "      <td>60.663923</td>\n",
       "    </tr>\n",
       "  </tbody>\n",
       "</table>\n",
       "</div>"
      ],
      "text/plain": [
       "  Country Name  Year  GDP per capita (current US$)  \\\n",
       "0  Afghanistan  2000                           NaN   \n",
       "1  Afghanistan  2001                           NaN   \n",
       "2  Afghanistan  2002                    179.426494   \n",
       "3  Afghanistan  2003                    190.684009   \n",
       "4  Afghanistan  2004                    211.381970   \n",
       "\n",
       "   GDP per capita growth (annual %)  Final consumption expenditure (% of GDP)  \\\n",
       "0                               NaN                                       NaN   \n",
       "1                               NaN                                       NaN   \n",
       "2                               NaN                                132.122532   \n",
       "3                          3.868362                                147.518576   \n",
       "4                         -2.875184                                139.652624   \n",
       "\n",
       "   Final consumption expenditure (current US$)  \\\n",
       "0                                          NaN   \n",
       "1                                          NaN   \n",
       "2                                 5.357802e+09   \n",
       "3                                 6.661295e+09   \n",
       "4                                 7.299329e+09   \n",
       "\n",
       "   General government final consumption expenditure (current US$)  \\\n",
       "0                                                NaN                \n",
       "1                                                NaN                \n",
       "2                                       3.453616e+08                \n",
       "3                                       4.482138e+08                \n",
       "4                                       5.587055e+08                \n",
       "\n",
       "   General government final consumption expenditure (% of GDP)  \\\n",
       "0                                                NaN             \n",
       "1                                                NaN             \n",
       "2                                           8.516561             \n",
       "3                                           9.925977             \n",
       "4                                          10.689296             \n",
       "\n",
       "   Foreign direct investment, net inflows (% of GDP)  \\\n",
       "0                                                NaN   \n",
       "1                                                NaN   \n",
       "2                                           1.232992   \n",
       "3                                           1.280017   \n",
       "4                                           3.575819   \n",
       "\n",
       "   Foreign direct investment, net inflows (BoP, current US$)  \\\n",
       "0                                           170000.0           \n",
       "1                                           680000.0           \n",
       "2                                         50000000.0           \n",
       "3                                         57800000.0           \n",
       "4                                        186900000.0           \n",
       "\n",
       "   Exports of goods and services (current US$)  \\\n",
       "0                                          NaN   \n",
       "1                                          NaN   \n",
       "2                                 1.329281e+09   \n",
       "3                                 2.003508e+09   \n",
       "4                                 1.616202e+09   \n",
       "\n",
       "   Imports of goods and services (current US$)  \\\n",
       "0                                          NaN   \n",
       "1                                          NaN   \n",
       "2                                 2.851980e+09   \n",
       "3                                 3.250916e+09   \n",
       "4                                 3.170767e+09   \n",
       "\n",
       "   Exports of goods and services (% of GDP)  \\\n",
       "0                                       NaN   \n",
       "1                                       NaN   \n",
       "2                                 32.779841   \n",
       "3                                 44.368948   \n",
       "4                                 30.921587   \n",
       "\n",
       "   Imports of goods and services (% of GDP)  \n",
       "0                                       NaN  \n",
       "1                                       NaN  \n",
       "2                                 70.329362  \n",
       "3                                 71.993593  \n",
       "4                                 60.663923  "
      ]
     },
     "execution_count": 82,
     "metadata": {},
     "output_type": "execute_result"
    }
   ],
   "source": [
    "predictionData = pd.DataFrame(columns = [\"Country Name\", \"Year\"])\n",
    "\n",
    "countriesList = worldData[\"Country Name\"]\n",
    "for name in countriesList.unique():\n",
    "        counter = 2000\n",
    "        while counter <= 2015:\n",
    "            predictionData = predictionData.append({\"Country Name\": name, \"Year\": counter}, ignore_index=True)\n",
    "            counter += 1\n",
    "\n",
    "predictionData[\"GDP per capita (current US$)\"] = 0.0\n",
    "predictionData[\"GDP per capita growth (annual %)\"] = 0.0\n",
    "predictionData[\"Final consumption expenditure (% of GDP)\"] = 0.0\n",
    "predictionData[\"Final consumption expenditure (current US$)\"] = 0.0\n",
    "predictionData[\"General government final consumption expenditure (current US$)\"] = 0.0\n",
    "predictionData[\"General government final consumption expenditure (% of GDP)\"] = 0.0\n",
    "predictionData[\"Foreign direct investment, net inflows (% of GDP)\"] = 0.0\n",
    "predictionData[\"Foreign direct investment, net inflows (BoP, current US$)\"] = 0.0\n",
    "predictionData[\"Exports of goods and services (current US$)\"] = 0.0\n",
    "predictionData[\"Imports of goods and services (current US$)\"] = 0.0\n",
    "predictionData[\"Exports of goods and services (% of GDP)\"] = 0.0\n",
    "predictionData[\"Imports of goods and services (% of GDP)\"] = 0.0\n",
    "\n",
    "country = \"Afghanistan\"\n",
    "countryCounter = 0\n",
    "for index, row in worldData.iterrows():\n",
    "    if row[\"Country Name\"] != country:\n",
    "        countryCounter += 1\n",
    "        country = row[\"Country Name\"]\n",
    "    if row[\"Series Name\"] in predictionData.columns:\n",
    "        counter = 2000\n",
    "        while counter <= 2015:\n",
    "            yearString = str(counter) + \" [YR\" + str(counter) + \"]\"\n",
    "            indx = countryCounter * 16 + (counter - 2000)\n",
    "            if row[yearString] != \"..\":\n",
    "                predictionData.at[indx, row[\"Series Name\"]] = row[yearString]\n",
    "            else:\n",
    "                predictionData.at[indx, row[\"Series Name\"]] = np.nan\n",
    "            counter += 1\n",
    "\n",
    "predictionData.drop(predictionData.index[3472:], inplace=True)    \n",
    "        \n",
    "predictionData.head()"
   ]
  },
  {
   "cell_type": "markdown",
   "metadata": {},
   "source": [
    "## <center>Exploratory Analysis and Data Visualization<center>"
   ]
  },
  {
   "cell_type": "code",
   "execution_count": 77,
   "metadata": {},
   "outputs": [
    {
     "data": {
      "text/html": [
       "<div>\n",
       "<style scoped>\n",
       "    .dataframe tbody tr th:only-of-type {\n",
       "        vertical-align: middle;\n",
       "    }\n",
       "\n",
       "    .dataframe tbody tr th {\n",
       "        vertical-align: top;\n",
       "    }\n",
       "\n",
       "    .dataframe thead th {\n",
       "        text-align: right;\n",
       "    }\n",
       "</style>\n",
       "<table border=\"1\" class=\"dataframe\">\n",
       "  <thead>\n",
       "    <tr style=\"text-align: right;\">\n",
       "      <th></th>\n",
       "      <th>Year</th>\n",
       "      <th>GDP per capita (current US$)</th>\n",
       "      <th>GDP per capita growth (annual %)</th>\n",
       "      <th>Final consumption expenditure (% of GDP)</th>\n",
       "      <th>Final consumption expenditure (current US$)</th>\n",
       "      <th>General government final consumption expenditure (current US$)</th>\n",
       "      <th>General government final consumption expenditure (% of GDP)</th>\n",
       "      <th>Foreign direct investment, net inflows (% of GDP)</th>\n",
       "      <th>Foreign direct investment, net inflows (BoP, current US$)</th>\n",
       "      <th>Exports of goods and services (current US$)</th>\n",
       "      <th>Imports of goods and services (current US$)</th>\n",
       "      <th>Exports of goods and services (% of GDP)</th>\n",
       "      <th>Imports of goods and services (% of GDP)</th>\n",
       "    </tr>\n",
       "  </thead>\n",
       "  <tbody>\n",
       "    <tr>\n",
       "      <th>count</th>\n",
       "      <td>3472.000000</td>\n",
       "      <td>3270.000000</td>\n",
       "      <td>3241.000000</td>\n",
       "      <td>2755.000000</td>\n",
       "      <td>2.740000e+03</td>\n",
       "      <td>2.729000e+03</td>\n",
       "      <td>2739.000000</td>\n",
       "      <td>3027.000000</td>\n",
       "      <td>3.153000e+03</td>\n",
       "      <td>2.989000e+03</td>\n",
       "      <td>2.989000e+03</td>\n",
       "      <td>3004.000000</td>\n",
       "      <td>3004.000000</td>\n",
       "    </tr>\n",
       "    <tr>\n",
       "      <th>mean</th>\n",
       "      <td>2007.500000</td>\n",
       "      <td>13819.110697</td>\n",
       "      <td>2.388447</td>\n",
       "      <td>80.727680</td>\n",
       "      <td>2.452857e+11</td>\n",
       "      <td>5.528432e+10</td>\n",
       "      <td>16.521889</td>\n",
       "      <td>8.572102</td>\n",
       "      <td>9.019164e+09</td>\n",
       "      <td>8.444386e+10</td>\n",
       "      <td>8.265407e+10</td>\n",
       "      <td>43.255086</td>\n",
       "      <td>49.490405</td>\n",
       "    </tr>\n",
       "    <tr>\n",
       "      <th>std</th>\n",
       "      <td>4.610436</td>\n",
       "      <td>21923.158400</td>\n",
       "      <td>5.629381</td>\n",
       "      <td>19.851309</td>\n",
       "      <td>1.021754e+12</td>\n",
       "      <td>2.085425e+11</td>\n",
       "      <td>8.029543</td>\n",
       "      <td>48.499468</td>\n",
       "      <td>3.481636e+10</td>\n",
       "      <td>2.288171e+11</td>\n",
       "      <td>2.397827e+11</td>\n",
       "      <td>31.949753</td>\n",
       "      <td>30.206760</td>\n",
       "    </tr>\n",
       "    <tr>\n",
       "      <th>min</th>\n",
       "      <td>2000.000000</td>\n",
       "      <td>111.927224</td>\n",
       "      <td>-62.378077</td>\n",
       "      <td>12.173205</td>\n",
       "      <td>1.786634e+08</td>\n",
       "      <td>3.088705e+07</td>\n",
       "      <td>0.951747</td>\n",
       "      <td>-58.322880</td>\n",
       "      <td>-2.967943e+10</td>\n",
       "      <td>7.960111e+06</td>\n",
       "      <td>1.144018e+07</td>\n",
       "      <td>0.099465</td>\n",
       "      <td>0.064705</td>\n",
       "    </tr>\n",
       "    <tr>\n",
       "      <th>25%</th>\n",
       "      <td>2003.750000</td>\n",
       "      <td>1253.937370</td>\n",
       "      <td>0.190517</td>\n",
       "      <td>71.252935</td>\n",
       "      <td>5.264093e+09</td>\n",
       "      <td>9.077000e+08</td>\n",
       "      <td>11.682325</td>\n",
       "      <td>1.256553</td>\n",
       "      <td>7.977169e+07</td>\n",
       "      <td>1.367965e+09</td>\n",
       "      <td>2.129926e+09</td>\n",
       "      <td>24.455476</td>\n",
       "      <td>30.263562</td>\n",
       "    </tr>\n",
       "    <tr>\n",
       "      <th>50%</th>\n",
       "      <td>2007.500000</td>\n",
       "      <td>4311.495421</td>\n",
       "      <td>2.322977</td>\n",
       "      <td>79.812924</td>\n",
       "      <td>1.876980e+10</td>\n",
       "      <td>3.391895e+09</td>\n",
       "      <td>15.745053</td>\n",
       "      <td>3.137152</td>\n",
       "      <td>5.552521e+08</td>\n",
       "      <td>7.503513e+09</td>\n",
       "      <td>8.350275e+09</td>\n",
       "      <td>36.430283</td>\n",
       "      <td>43.609913</td>\n",
       "    </tr>\n",
       "    <tr>\n",
       "      <th>75%</th>\n",
       "      <td>2011.250000</td>\n",
       "      <td>16949.803274</td>\n",
       "      <td>4.596447</td>\n",
       "      <td>90.965881</td>\n",
       "      <td>1.114418e+11</td>\n",
       "      <td>2.366861e+10</td>\n",
       "      <td>19.488833</td>\n",
       "      <td>6.506880</td>\n",
       "      <td>3.352997e+09</td>\n",
       "      <td>5.508020e+10</td>\n",
       "      <td>4.926399e+10</td>\n",
       "      <td>53.251363</td>\n",
       "      <td>60.658136</td>\n",
       "    </tr>\n",
       "    <tr>\n",
       "      <th>max</th>\n",
       "      <td>2015.000000</td>\n",
       "      <td>189170.895671</td>\n",
       "      <td>121.779543</td>\n",
       "      <td>241.973940</td>\n",
       "      <td>1.490724e+13</td>\n",
       "      <td>2.612706e+12</td>\n",
       "      <td>135.809438</td>\n",
       "      <td>1282.632552</td>\n",
       "      <td>7.340103e+11</td>\n",
       "      <td>2.462839e+12</td>\n",
       "      <td>2.879284e+12</td>\n",
       "      <td>433.223529</td>\n",
       "      <td>427.576471</td>\n",
       "    </tr>\n",
       "  </tbody>\n",
       "</table>\n",
       "</div>"
      ],
      "text/plain": [
       "              Year  GDP per capita (current US$)  \\\n",
       "count  3472.000000                   3270.000000   \n",
       "mean   2007.500000                  13819.110697   \n",
       "std       4.610436                  21923.158400   \n",
       "min    2000.000000                    111.927224   \n",
       "25%    2003.750000                   1253.937370   \n",
       "50%    2007.500000                   4311.495421   \n",
       "75%    2011.250000                  16949.803274   \n",
       "max    2015.000000                 189170.895671   \n",
       "\n",
       "       GDP per capita growth (annual %)  \\\n",
       "count                       3241.000000   \n",
       "mean                           2.388447   \n",
       "std                            5.629381   \n",
       "min                          -62.378077   \n",
       "25%                            0.190517   \n",
       "50%                            2.322977   \n",
       "75%                            4.596447   \n",
       "max                          121.779543   \n",
       "\n",
       "       Final consumption expenditure (% of GDP)  \\\n",
       "count                               2755.000000   \n",
       "mean                                  80.727680   \n",
       "std                                   19.851309   \n",
       "min                                   12.173205   \n",
       "25%                                   71.252935   \n",
       "50%                                   79.812924   \n",
       "75%                                   90.965881   \n",
       "max                                  241.973940   \n",
       "\n",
       "       Final consumption expenditure (current US$)  \\\n",
       "count                                 2.740000e+03   \n",
       "mean                                  2.452857e+11   \n",
       "std                                   1.021754e+12   \n",
       "min                                   1.786634e+08   \n",
       "25%                                   5.264093e+09   \n",
       "50%                                   1.876980e+10   \n",
       "75%                                   1.114418e+11   \n",
       "max                                   1.490724e+13   \n",
       "\n",
       "       General government final consumption expenditure (current US$)  \\\n",
       "count                                       2.729000e+03                \n",
       "mean                                        5.528432e+10                \n",
       "std                                         2.085425e+11                \n",
       "min                                         3.088705e+07                \n",
       "25%                                         9.077000e+08                \n",
       "50%                                         3.391895e+09                \n",
       "75%                                         2.366861e+10                \n",
       "max                                         2.612706e+12                \n",
       "\n",
       "       General government final consumption expenditure (% of GDP)  \\\n",
       "count                                        2739.000000             \n",
       "mean                                           16.521889             \n",
       "std                                             8.029543             \n",
       "min                                             0.951747             \n",
       "25%                                            11.682325             \n",
       "50%                                            15.745053             \n",
       "75%                                            19.488833             \n",
       "max                                           135.809438             \n",
       "\n",
       "       Foreign direct investment, net inflows (% of GDP)  \\\n",
       "count                                        3027.000000   \n",
       "mean                                            8.572102   \n",
       "std                                            48.499468   \n",
       "min                                           -58.322880   \n",
       "25%                                             1.256553   \n",
       "50%                                             3.137152   \n",
       "75%                                             6.506880   \n",
       "max                                          1282.632552   \n",
       "\n",
       "       Foreign direct investment, net inflows (BoP, current US$)  \\\n",
       "count                                       3.153000e+03           \n",
       "mean                                        9.019164e+09           \n",
       "std                                         3.481636e+10           \n",
       "min                                        -2.967943e+10           \n",
       "25%                                         7.977169e+07           \n",
       "50%                                         5.552521e+08           \n",
       "75%                                         3.352997e+09           \n",
       "max                                         7.340103e+11           \n",
       "\n",
       "       Exports of goods and services (current US$)  \\\n",
       "count                                 2.989000e+03   \n",
       "mean                                  8.444386e+10   \n",
       "std                                   2.288171e+11   \n",
       "min                                   7.960111e+06   \n",
       "25%                                   1.367965e+09   \n",
       "50%                                   7.503513e+09   \n",
       "75%                                   5.508020e+10   \n",
       "max                                   2.462839e+12   \n",
       "\n",
       "       Imports of goods and services (current US$)  \\\n",
       "count                                 2.989000e+03   \n",
       "mean                                  8.265407e+10   \n",
       "std                                   2.397827e+11   \n",
       "min                                   1.144018e+07   \n",
       "25%                                   2.129926e+09   \n",
       "50%                                   8.350275e+09   \n",
       "75%                                   4.926399e+10   \n",
       "max                                   2.879284e+12   \n",
       "\n",
       "       Exports of goods and services (% of GDP)  \\\n",
       "count                               3004.000000   \n",
       "mean                                  43.255086   \n",
       "std                                   31.949753   \n",
       "min                                    0.099465   \n",
       "25%                                   24.455476   \n",
       "50%                                   36.430283   \n",
       "75%                                   53.251363   \n",
       "max                                  433.223529   \n",
       "\n",
       "       Imports of goods and services (% of GDP)  \n",
       "count                               3004.000000  \n",
       "mean                                  49.490405  \n",
       "std                                   30.206760  \n",
       "min                                    0.064705  \n",
       "25%                                   30.263562  \n",
       "50%                                   43.609913  \n",
       "75%                                   60.658136  \n",
       "max                                  427.576471  "
      ]
     },
     "execution_count": 77,
     "metadata": {},
     "output_type": "execute_result"
    }
   ],
   "source": [
    "predictionData.describe()"
   ]
  },
  {
   "cell_type": "code",
   "execution_count": 65,
   "metadata": {},
   "outputs": [
    {
     "data": {
      "text/plain": [
       "<matplotlib.axes._subplots.AxesSubplot at 0x7fb8bc13f5f8>"
      ]
     },
     "execution_count": 65,
     "metadata": {},
     "output_type": "execute_result"
    },
    {
     "data": {
      "image/png": "[encoded data removed]",
      "text/plain": [
       "<Figure size 432x288 with 1 Axes>"
      ]
     },
     "metadata": {
      "needs_background": "light"
     },
     "output_type": "display_data"
    }
   ],
   "source": [
    "sns.scatterplot(x=\"Year\", y=\"GDP per capita (current US$)\", data=predictionData)"
   ]
  },
  {
   "cell_type": "code",
   "execution_count": 66,
   "metadata": {
    "scrolled": true
   },
   "outputs": [
    {
     "data": {
      "text/plain": [
       "<matplotlib.axes._subplots.AxesSubplot at 0x7fb8bbf5b2b0>"
      ]
     },
     "execution_count": 66,
     "metadata": {},
     "output_type": "execute_result"
    },
    {
     "data": {
      "image/png": "[encoded data removed]",
      "text/plain": [
       "<Figure size 432x288 with 1 Axes>"
      ]
     },
     "metadata": {
      "needs_background": "light"
     },
     "output_type": "display_data"
    }
   ],
   "source": [
    "sns.scatterplot(x=\"Year\", y=\"GDP per capita growth (annual %)\", data=predictionData)"
   ]
  },
  {
   "cell_type": "code",
   "execution_count": 67,
   "metadata": {},
   "outputs": [
    {
     "data": {
      "text/plain": [
       "<matplotlib.axes._subplots.AxesSubplot at 0x7fb8b954fc88>"
      ]
     },
     "execution_count": 67,
     "metadata": {},
     "output_type": "execute_result"
    },
    {
     "data": {
      "image/png": "[encoded data removed]",
      "text/plain": [
       "<Figure size 432x288 with 1 Axes>"
      ]
     },
     "metadata": {
      "needs_background": "light"
     },
     "output_type": "display_data"
    }
   ],
   "source": [
    "sns.scatterplot(x=\"Year\", y=\"Final consumption expenditure (current US$)\", data=predictionData)"
   ]
  },
  {
   "cell_type": "code",
   "execution_count": 68,
   "metadata": {},
   "outputs": [
    {
     "data": {
      "text/plain": [
       "<matplotlib.axes._subplots.AxesSubplot at 0x7fb8b94115f8>"
      ]
     },
     "execution_count": 68,
     "metadata": {},
     "output_type": "execute_result"
    },
    {
     "data": {
      "image/png": "[encoded data removed]",
      "text/plain": [
       "<Figure size 432x288 with 1 Axes>"
      ]
     },
     "metadata": {
      "needs_background": "light"
     },
     "output_type": "display_data"
    }
   ],
   "source": [
    "sns.scatterplot(x=\"Year\", y=\"General government final consumption expenditure (current US$)\", data=predictionData)"
   ]
  },
  {
   "cell_type": "code",
   "execution_count": 69,
   "metadata": {},
   "outputs": [
    {
     "data": {
      "text/plain": [
       "<matplotlib.axes._subplots.AxesSubplot at 0x7fb8b94a4390>"
      ]
     },
     "execution_count": 69,
     "metadata": {},
     "output_type": "execute_result"
    },
    {
     "data": {
      "image/png": "[encoded data removed]",
      "text/plain": [
       "<Figure size 432x288 with 1 Axes>"
      ]
     },
     "metadata": {
      "needs_background": "light"
     },
     "output_type": "display_data"
    }
   ],
   "source": [
    "sns.scatterplot(x=\"Year\", y=\"Foreign direct investment, net inflows (BoP, current US$)\", data=predictionData)"
   ]
  },
  {
   "cell_type": "code",
   "execution_count": 70,
   "metadata": {},
   "outputs": [
    {
     "data": {
      "text/plain": [
       "<matplotlib.axes._subplots.AxesSubplot at 0x7fb8bafa75f8>"
      ]
     },
     "execution_count": 70,
     "metadata": {},
     "output_type": "execute_result"
    },
    {
     "data": {
      "image/png": "[encoded data removed]",
      "text/plain": [
       "<Figure size 432x288 with 1 Axes>"
      ]
     },
     "metadata": {
      "needs_background": "light"
     },
     "output_type": "display_data"
    }
   ],
   "source": [
    "sns.scatterplot(x=\"Year\", y=\"Exports of goods and services (current US$)\", data=predictionData)"
   ]
  },
  {
   "cell_type": "code",
   "execution_count": 71,
   "metadata": {},
   "outputs": [
    {
     "data": {
      "text/plain": [
       "<matplotlib.axes._subplots.AxesSubplot at 0x7fb8b9473048>"
      ]
     },
     "execution_count": 71,
     "metadata": {},
     "output_type": "execute_result"
    },
    {
     "data": {
      "image/png": "[encoded data removed]",
      "text/plain": [
       "<Figure size 432x288 with 1 Axes>"
      ]
     },
     "metadata": {
      "needs_background": "light"
     },
     "output_type": "display_data"
    }
   ],
   "source": [
    "sns.scatterplot(x=\"Year\", y=\"Imports of goods and services (current US$)\", data=predictionData)"
   ]
  },
  {
   "cell_type": "markdown",
   "metadata": {},
   "source": [
    "### Ignore This (Old Dataframe)"
   ]
  },
  {
   "cell_type": "code",
   "execution_count": 72,
   "metadata": {
    "scrolled": false
   },
   "outputs": [],
   "source": [
    "worldData = worldData[[\"Country Name\",\"Country Code\", \"Series Name\", \"Series Code\", \"2015 [YR2015]\"]]\n",
    "\n",
    "counter = 0\n",
    "indx = 0\n",
    "predictors = pd.DataFrame(columns = [\"countryName\", \"Country Code\"])\n",
    "for index, row in worldData.iterrows():\n",
    "    if row[\"Country Name\"] not in predictors.countryName.values:\n",
    "        predictors = predictors.append({\"countryName\": row[\"Country Name\"], \"Country Code\": row[\"Country Code\"]}, ignore_index=True)\n",
    "predictors[\"Current health expenditure (% of GDP)\"] = 0.0\n",
    "predictors[\"Government expenditure on education, total (% of GDP)\"] = 0.0\n",
    "predictors[\"Prevalence of undernourishment (% of population)\"] = 0.0\n",
    "predictors[\"GDP per capita (current US$)\"] = 0.0\n",
    "for index, row in worldData.iterrows():\n",
    "    if row[\"Series Name\"] in predictors.columns:\n",
    "        counter += 1\n",
    "        if row[\"2015 [YR2015]\"] != \"..\":\n",
    "            predictors.at[indx, row[\"Series Name\"]] = row[\"2015 [YR2015]\"]\n",
    "        else:\n",
    "            predictors.at[indx, row[\"Series Name\"]] = np.nan\n",
    "        if counter % 4 == 0:\n",
    "            counter = 0\n",
    "            indx += 1\n",
    "predictors = predictors.dropna()"
   ]
  },
  {
   "cell_type": "code",
   "execution_count": 73,
   "metadata": {},
   "outputs": [
    {
     "data": {
      "text/html": [
       "<div>\n",
       "<style scoped>\n",
       "    .dataframe tbody tr th:only-of-type {\n",
       "        vertical-align: middle;\n",
       "    }\n",
       "\n",
       "    .dataframe tbody tr th {\n",
       "        vertical-align: top;\n",
       "    }\n",
       "\n",
       "    .dataframe thead th {\n",
       "        text-align: right;\n",
       "    }\n",
       "</style>\n",
       "<table border=\"1\" class=\"dataframe\">\n",
       "  <thead>\n",
       "    <tr style=\"text-align: right;\">\n",
       "      <th></th>\n",
       "      <th>type</th>\n",
       "      <th>features</th>\n",
       "    </tr>\n",
       "  </thead>\n",
       "  <tbody>\n",
       "    <tr>\n",
       "      <th>0</th>\n",
       "      <td>FeatureCollection</td>\n",
       "      <td>{'type': 'Feature', 'properties': {'name': 'Af...</td>\n",
       "    </tr>\n",
       "    <tr>\n",
       "      <th>1</th>\n",
       "      <td>FeatureCollection</td>\n",
       "      <td>{'type': 'Feature', 'properties': {'name': 'An...</td>\n",
       "    </tr>\n",
       "    <tr>\n",
       "      <th>2</th>\n",
       "      <td>FeatureCollection</td>\n",
       "      <td>{'type': 'Feature', 'properties': {'name': 'Al...</td>\n",
       "    </tr>\n",
       "    <tr>\n",
       "      <th>3</th>\n",
       "      <td>FeatureCollection</td>\n",
       "      <td>{'type': 'Feature', 'properties': {'name': 'Un...</td>\n",
       "    </tr>\n",
       "    <tr>\n",
       "      <th>4</th>\n",
       "      <td>FeatureCollection</td>\n",
       "      <td>{'type': 'Feature', 'properties': {'name': 'Ar...</td>\n",
       "    </tr>\n",
       "  </tbody>\n",
       "</table>\n",
       "</div>"
      ],
      "text/plain": [
       "                type                                           features\n",
       "0  FeatureCollection  {'type': 'Feature', 'properties': {'name': 'Af...\n",
       "1  FeatureCollection  {'type': 'Feature', 'properties': {'name': 'An...\n",
       "2  FeatureCollection  {'type': 'Feature', 'properties': {'name': 'Al...\n",
       "3  FeatureCollection  {'type': 'Feature', 'properties': {'name': 'Un...\n",
       "4  FeatureCollection  {'type': 'Feature', 'properties': {'name': 'Ar..."
      ]
     },
     "execution_count": 73,
     "metadata": {},
     "output_type": "execute_result"
    }
   ],
   "source": [
    "worldCountries = pd.read_json(\"world-countries.json\")\n",
    "\n",
    "mapPredictors = predictors\n",
    "\n",
    "#for index, row in mapPredictors.iterrows():\n",
    "#    if row[\"countryName\"] not in worldCountries.name:\n",
    "#        mapPredictors.drop([index], axis=0, inplace=True)\n",
    "\n",
    "worldCountries.head()"
   ]
  },
  {
   "cell_type": "code",
   "execution_count": 74,
   "metadata": {
    "scrolled": false
   },
   "outputs": [
    {
     "data": {
      "text/html": [
       "<div style=\"width:100%;\"><div style=\"position:relative;width:100%;height:0;padding-bottom:60%;\"><iframe src=\"data:text/html;charset=utf-8;base64,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\" style=\"position:absolute;width:100%;height:100%;left:0;top:0;border:none !important;\" allowfullscreen webkitallowfullscreen mozallowfullscreen></iframe></div></div>"
      ],
      "text/plain": [
       "<folium.folium.Map at 0x7fb8baaf7be0>"
      ]
     },
     "execution_count": 74,
     "metadata": {},
     "output_type": "execute_result"
    }
   ],
   "source": [
    "#worldCountries \n",
    "\n",
    "# NEED COUNTRIES IN dataGDP to match countries in worldCountries.\n",
    "\n",
    "m = folium.Map(location=[37, -102], zoom_start=5)\n",
    "\n",
    "#folium.Choropleth(\n",
    "#    geo_data=\"world-countries.json\",\n",
    "#    name='choropleth',\n",
    "#    data=dataGDP,\n",
    "#    columns=['Country Name', 'GDP2015'],\n",
    "#    key_on='feature.id',\n",
    "#    fill_color='YlGn',\n",
    "#    fill_opacity=0.7,\n",
    "#    line_opacity=0.2,\n",
    "#    legend_name='Unemployment Rate (%)'\n",
    "#).add_to(m)\n",
    "\n",
    "folium.LayerControl().add_to(m)\n",
    "\n",
    "m"
   ]
  },
  {
   "cell_type": "markdown",
   "metadata": {},
   "source": [
    "## <center>Analysis, Hypothesis Testing, and Machine Learning<center>"
   ]
  },
  {
   "cell_type": "code",
   "execution_count": 76,
   "metadata": {},
   "outputs": [
    {
     "data": {
      "text/html": [
       "<div>\n",
       "<style scoped>\n",
       "    .dataframe tbody tr th:only-of-type {\n",
       "        vertical-align: middle;\n",
       "    }\n",
       "\n",
       "    .dataframe tbody tr th {\n",
       "        vertical-align: top;\n",
       "    }\n",
       "\n",
       "    .dataframe thead th {\n",
       "        text-align: right;\n",
       "    }\n",
       "</style>\n",
       "<table border=\"1\" class=\"dataframe\">\n",
       "  <thead>\n",
       "    <tr style=\"text-align: right;\">\n",
       "      <th></th>\n",
       "      <th>Country Name</th>\n",
       "      <th>Year</th>\n",
       "      <th>GDP per capita (current US$)</th>\n",
       "      <th>GDP per capita growth (annual %)</th>\n",
       "      <th>Final consumption expenditure (% of GDP)</th>\n",
       "      <th>Final consumption expenditure (current US$)</th>\n",
       "      <th>General government final consumption expenditure (current US$)</th>\n",
       "      <th>General government final consumption expenditure (% of GDP)</th>\n",
       "      <th>Foreign direct investment, net inflows (% of GDP)</th>\n",
       "      <th>Foreign direct investment, net inflows (BoP, current US$)</th>\n",
       "      <th>Exports of goods and services (current US$)</th>\n",
       "      <th>Imports of goods and services (current US$)</th>\n",
       "      <th>Exports of goods and services (% of GDP)</th>\n",
       "      <th>Imports of goods and services (% of GDP)</th>\n",
       "    </tr>\n",
       "  </thead>\n",
       "  <tbody>\n",
       "    <tr>\n",
       "      <th>0</th>\n",
       "      <td>Afghanistan</td>\n",
       "      <td>2000.0</td>\n",
       "      <td>NaN</td>\n",
       "      <td>NaN</td>\n",
       "      <td>NaN</td>\n",
       "      <td>NaN</td>\n",
       "      <td>NaN</td>\n",
       "      <td>NaN</td>\n",
       "      <td>NaN</td>\n",
       "      <td>170000.0</td>\n",
       "      <td>NaN</td>\n",
       "      <td>NaN</td>\n",
       "      <td>NaN</td>\n",
       "      <td>NaN</td>\n",
       "    </tr>\n",
       "    <tr>\n",
       "      <th>1</th>\n",
       "      <td>Afghanistan</td>\n",
       "      <td>2001.0</td>\n",
       "      <td>NaN</td>\n",
       "      <td>NaN</td>\n",
       "      <td>NaN</td>\n",
       "      <td>NaN</td>\n",
       "      <td>NaN</td>\n",
       "      <td>NaN</td>\n",
       "      <td>NaN</td>\n",
       "      <td>680000.0</td>\n",
       "      <td>NaN</td>\n",
       "      <td>NaN</td>\n",
       "      <td>NaN</td>\n",
       "      <td>NaN</td>\n",
       "    </tr>\n",
       "    <tr>\n",
       "      <th>2</th>\n",
       "      <td>Afghanistan</td>\n",
       "      <td>2002.0</td>\n",
       "      <td>179.426494</td>\n",
       "      <td>NaN</td>\n",
       "      <td>132.122532</td>\n",
       "      <td>5.357802e+09</td>\n",
       "      <td>3.453616e+08</td>\n",
       "      <td>8.516561</td>\n",
       "      <td>1.232992</td>\n",
       "      <td>50000000.0</td>\n",
       "      <td>1.329281e+09</td>\n",
       "      <td>2.851980e+09</td>\n",
       "      <td>32.779841</td>\n",
       "      <td>70.329362</td>\n",
       "    </tr>\n",
       "    <tr>\n",
       "      <th>3</th>\n",
       "      <td>Afghanistan</td>\n",
       "      <td>2003.0</td>\n",
       "      <td>190.684009</td>\n",
       "      <td>3.868362</td>\n",
       "      <td>147.518576</td>\n",
       "      <td>6.661295e+09</td>\n",
       "      <td>4.482138e+08</td>\n",
       "      <td>9.925977</td>\n",
       "      <td>1.280017</td>\n",
       "      <td>57800000.0</td>\n",
       "      <td>2.003508e+09</td>\n",
       "      <td>3.250916e+09</td>\n",
       "      <td>44.368948</td>\n",
       "      <td>71.993593</td>\n",
       "    </tr>\n",
       "    <tr>\n",
       "      <th>4</th>\n",
       "      <td>Afghanistan</td>\n",
       "      <td>2004.0</td>\n",
       "      <td>211.381970</td>\n",
       "      <td>-2.875184</td>\n",
       "      <td>139.652624</td>\n",
       "      <td>7.299329e+09</td>\n",
       "      <td>5.587055e+08</td>\n",
       "      <td>10.689296</td>\n",
       "      <td>3.575819</td>\n",
       "      <td>186900000.0</td>\n",
       "      <td>1.616202e+09</td>\n",
       "      <td>3.170767e+09</td>\n",
       "      <td>30.921587</td>\n",
       "      <td>60.663923</td>\n",
       "    </tr>\n",
       "  </tbody>\n",
       "</table>\n",
       "</div>"
      ],
      "text/plain": [
       "  Country Name    Year  GDP per capita (current US$)  \\\n",
       "0  Afghanistan  2000.0                           NaN   \n",
       "1  Afghanistan  2001.0                           NaN   \n",
       "2  Afghanistan  2002.0                    179.426494   \n",
       "3  Afghanistan  2003.0                    190.684009   \n",
       "4  Afghanistan  2004.0                    211.381970   \n",
       "\n",
       "   GDP per capita growth (annual %)  Final consumption expenditure (% of GDP)  \\\n",
       "0                               NaN                                       NaN   \n",
       "1                               NaN                                       NaN   \n",
       "2                               NaN                                132.122532   \n",
       "3                          3.868362                                147.518576   \n",
       "4                         -2.875184                                139.652624   \n",
       "\n",
       "   Final consumption expenditure (current US$)  \\\n",
       "0                                          NaN   \n",
       "1                                          NaN   \n",
       "2                                 5.357802e+09   \n",
       "3                                 6.661295e+09   \n",
       "4                                 7.299329e+09   \n",
       "\n",
       "   General government final consumption expenditure (current US$)  \\\n",
       "0                                                NaN                \n",
       "1                                                NaN                \n",
       "2                                       3.453616e+08                \n",
       "3                                       4.482138e+08                \n",
       "4                                       5.587055e+08                \n",
       "\n",
       "   General government final consumption expenditure (% of GDP)  \\\n",
       "0                                                NaN             \n",
       "1                                                NaN             \n",
       "2                                           8.516561             \n",
       "3                                           9.925977             \n",
       "4                                          10.689296             \n",
       "\n",
       "   Foreign direct investment, net inflows (% of GDP)  \\\n",
       "0                                                NaN   \n",
       "1                                                NaN   \n",
       "2                                           1.232992   \n",
       "3                                           1.280017   \n",
       "4                                           3.575819   \n",
       "\n",
       "   Foreign direct investment, net inflows (BoP, current US$)  \\\n",
       "0                                           170000.0           \n",
       "1                                           680000.0           \n",
       "2                                         50000000.0           \n",
       "3                                         57800000.0           \n",
       "4                                        186900000.0           \n",
       "\n",
       "   Exports of goods and services (current US$)  \\\n",
       "0                                          NaN   \n",
       "1                                          NaN   \n",
       "2                                 1.329281e+09   \n",
       "3                                 2.003508e+09   \n",
       "4                                 1.616202e+09   \n",
       "\n",
       "   Imports of goods and services (current US$)  \\\n",
       "0                                          NaN   \n",
       "1                                          NaN   \n",
       "2                                 2.851980e+09   \n",
       "3                                 3.250916e+09   \n",
       "4                                 3.170767e+09   \n",
       "\n",
       "   Exports of goods and services (% of GDP)  \\\n",
       "0                                       NaN   \n",
       "1                                       NaN   \n",
       "2                                 32.779841   \n",
       "3                                 44.368948   \n",
       "4                                 30.921587   \n",
       "\n",
       "   Imports of goods and services (% of GDP)  \n",
       "0                                       NaN  \n",
       "1                                       NaN  \n",
       "2                                 70.329362  \n",
       "3                                 71.993593  \n",
       "4                                 60.663923  "
      ]
     },
     "execution_count": 76,
     "metadata": {},
     "output_type": "execute_result"
    }
   ],
   "source": [
    "predictionData = predictionData.astype({\"Year\": float})\n",
    "\n",
    "predictionData.head()"
   ]
  },
  {
   "cell_type": "markdown",
   "metadata": {},
   "source": [
    "### Linear Regression"
   ]
  },
  {
   "cell_type": "code",
   "execution_count": null,
   "metadata": {},
   "outputs": [],
   "source": [
    "X = predictors[[\"Current health expenditure (% of GDP)\", \"Government expenditure on education, total (% of GDP)\", \"Prevalence of undernourishment (% of population)\"]]\n",
    "y = predictors[[\"GDP per capita (current US$)\"]]\n",
    "lm = linear_model.LinearRegression()\n",
    "model = lm.fit(X,y)\n",
    "lm.score(X,y)"
   ]
  },
  {
   "cell_type": "markdown",
   "metadata": {},
   "source": [
    "### OLS Regression"
   ]
  },
  {
   "cell_type": "code",
   "execution_count": null,
   "metadata": {},
   "outputs": [],
   "source": [
    "ols_y = y\n",
    "ols_X = X\n",
    "\n",
    "#add a constant to the features\n",
    "ols_X = sm.add_constant(ols_X)\n",
    "\n",
    "# use Ordinary Least Squares\n",
    "OLS_model = sm.OLS(ols_y, ols_X).fit()\n",
    "OLS_model.summary()"
   ]
  },
  {
   "cell_type": "markdown",
   "metadata": {},
   "source": [
    "### Predictions"
   ]
  },
  {
   "cell_type": "code",
   "execution_count": null,
   "metadata": {},
   "outputs": [],
   "source": [
    "# create training and testing data from same X and y used in regression above\n",
    "X_train, X_test, y_train, y_test = model_selection.train_test_split(X, y, test_size=0.3)\n",
    "\n",
    "# create and fit the model\n",
    "lm = linear_model.LinearRegression()\n",
    "model = lm.fit(X_train, y_train)\n",
    "\n",
    "# generate predictions for player Rating to compare with y_test data\n",
    "predictions = lm.predict(X_test)\n",
    "\n",
    "plt.figure(figsize=(8,8))\n",
    "plt.title(\"Predicted vs. Actual Values for GDP\", fontsize=16)\n",
    "plt.scatter(y_test, predictions)\n",
    "plt.plot(y_test, y_test, color=\"Red\") # identity line y=x\n",
    "plt.xlabel(\"Actual Values\")\n",
    "plt.ylabel(\"Predicted Values\")\n",
    "plt.show()"
   ]
  },
  {
   "cell_type": "markdown",
   "metadata": {},
   "source": [
    "## <center>Insight and Policy Decision<center>"
   ]
  }
 ],
 "metadata": {
  "kernelspec": {
   "display_name": "Python 3",
   "language": "python",
   "name": "python3"
  },
  "language_info": {
   "codemirror_mode": {
    "name": "ipython",
    "version": 3
   },
   "file_extension": ".py",
   "mimetype": "text/x-python",
   "name": "python",
   "nbconvert_exporter": "python",
   "pygments_lexer": "ipython3",
   "version": "3.7.3"
  }
 },
 "nbformat": 4,
 "nbformat_minor": 2
}
